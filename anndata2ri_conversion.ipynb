{
 "cells": [
  {
   "cell_type": "code",
   "execution_count": 37,
   "metadata": {},
   "outputs": [],
   "source": [
    "import os\n",
    "import re\n",
    "\n",
    "import anndata\n",
    "import scanpy as sc\n",
    "import numpy as np\n",
    "import pandas as pd\n",
    "\n",
    "import anndata2ri"
   ]
  },
  {
   "cell_type": "code",
   "execution_count": 38,
   "metadata": {},
   "outputs": [],
   "source": [
    "from collections import Counter"
   ]
  },
  {
   "cell_type": "code",
   "execution_count": 39,
   "metadata": {},
   "outputs": [],
   "source": [
    "# !conda config --add channels defaults\n",
    "# !conda config --add channels bioconda\n",
    "# !conda config --add channels conda-forge"
   ]
  },
  {
   "cell_type": "code",
   "execution_count": 40,
   "metadata": {},
   "outputs": [],
   "source": [
    "# !conda install -y scanpy r-seurat"
   ]
  },
  {
   "cell_type": "code",
   "execution_count": 41,
   "metadata": {},
   "outputs": [],
   "source": [
    "# !pip install anndata2ri==1.0.5\n",
    "# !pip install anndata==0.7.5"
   ]
  },
  {
   "cell_type": "code",
   "execution_count": 17,
   "metadata": {},
   "outputs": [
    {
     "data": {
      "text/plain": [
       "'1.0.5'"
      ]
     },
     "execution_count": 17,
     "metadata": {},
     "output_type": "execute_result"
    }
   ],
   "source": [
    "anndata2ri.__version__"
   ]
  },
  {
   "cell_type": "code",
   "execution_count": 18,
   "metadata": {},
   "outputs": [
    {
     "data": {
      "text/plain": [
       "'0.7.5'"
      ]
     },
     "execution_count": 18,
     "metadata": {},
     "output_type": "execute_result"
    }
   ],
   "source": [
    "anndata.__version__"
   ]
  },
  {
   "cell_type": "code",
   "execution_count": 19,
   "metadata": {},
   "outputs": [],
   "source": [
    "# !conda install -y anndata2ri==1.0.5"
   ]
  },
  {
   "cell_type": "code",
   "execution_count": 20,
   "metadata": {},
   "outputs": [],
   "source": [
    "# !conda install -y bioconductor-singlecellexperiment"
   ]
  },
  {
   "cell_type": "code",
   "execution_count": 21,
   "metadata": {},
   "outputs": [
    {
     "name": "stdout",
     "output_type": "stream",
     "text": [
      "The rpy2.ipython extension is already loaded. To reload it, use:\n",
      "  %reload_ext rpy2.ipython\n"
     ]
    }
   ],
   "source": [
    "# Activate the anndata2ri conversion between SingleCellExperiment and AnnData\n",
    "anndata2ri.activate()\n",
    "\n",
    "#Loading the rpy2 extension enables cell magic to be used\n",
    "#This runs R code in jupyter notebook cells\n",
    "%load_ext rpy2.ipython"
   ]
  },
  {
   "cell_type": "code",
   "execution_count": null,
   "metadata": {},
   "outputs": [],
   "source": [
    "# from pathlib import Path\n",
    "# Path('/diskmnt/Projects/Users/estorrs/single_cell_data/pollock/scRNAseq/').mkdir(parents=True, exist_ok=True)"
   ]
  },
  {
   "cell_type": "markdown",
   "metadata": {},
   "source": [
    "#### single file"
   ]
  },
  {
   "cell_type": "markdown",
   "metadata": {},
   "source": [
    "aadel"
   ]
  },
  {
   "cell_type": "code",
   "execution_count": null,
   "metadata": {},
   "outputs": [],
   "source": [
    "rds_fp = '/home/estorrs/rds_conversion/data/scRNAseq/aadel/processed.rds'\n",
    "output_fp = '/home/estorrs/rds_conversion/data/scRNAseq/aadel/processed.h5ad'"
   ]
  },
  {
   "cell_type": "code",
   "execution_count": 32,
   "metadata": {},
   "outputs": [],
   "source": [
    "rds_fp = '/home/estorrs/rds_conversion/data/scRNAseq/aadel/inhouse_peng_lin_tumor_only.rds'\n",
    "output_fp = '/home/estorrs/rds_conversion/data/scRNAseq/aadel/inhouse_peng_lin_tumor_only.h5ad'"
   ]
  },
  {
   "cell_type": "code",
   "execution_count": 52,
   "metadata": {},
   "outputs": [],
   "source": [
    "rds_fp = '/home/estorrs/rds_conversion/data/scRNAseq/aadel/03292020/all_initial_malignant.rds'\n",
    "output_fp = '/home/estorrs/rds_conversion/data/scRNAseq/aadel/all_initial_malignant.h5ad'"
   ]
  },
  {
   "cell_type": "markdown",
   "metadata": {},
   "source": [
    "scRNAseq"
   ]
  },
  {
   "cell_type": "code",
   "execution_count": null,
   "metadata": {},
   "outputs": [],
   "source": [
    "rds_fp = '/home/estorrs/rds_conversion/data/scRNAseq/pdac/pdac_tumor_acinar_adm.rds'\n",
    "output_fp = '/home/estorrs/rds_conversion/data/scRNAseq/pdac/pdac_tumor_acinar_adm.h5ad'"
   ]
  },
  {
   "cell_type": "code",
   "execution_count": 11,
   "metadata": {},
   "outputs": [],
   "source": [
    "rds_fp = '/home/estorrs/data/single_cell_classification/tumor/PDAC/pdac_with_immune_annotations.rds'\n",
    "output_fp = '/home/estorrs/data/single_cell_classification/tumor/PDAC/pdac_with_immune_annotations.h5ad'"
   ]
  },
  {
   "cell_type": "markdown",
   "metadata": {},
   "source": [
    "PDAC"
   ]
  },
  {
   "cell_type": "code",
   "execution_count": null,
   "metadata": {},
   "outputs": [],
   "source": [
    "rds_fp = '/home/estorrs/rds_conversion/data/scRNAseq/pdac/pdac_tumor_acinar_adm.rds'\n",
    "output_fp = '/home/estorrs/rds_conversion/data/scRNAseq/pdac/pdac_tumor_acinar_adm.h5ad'"
   ]
  },
  {
   "cell_type": "code",
   "execution_count": null,
   "metadata": {},
   "outputs": [],
   "source": [
    "rds_fp = '/home/estorrs/data/single_cell_classification/tumor/BR/scRNA/brca_with_immune.rds'\n",
    "output_fp = '/home/estorrs/data/single_cell_classification/tumor/BR/scRNA/brca_with_immune.h5ad'"
   ]
  },
  {
   "cell_type": "markdown",
   "metadata": {},
   "source": [
    "snATACseq"
   ]
  },
  {
   "cell_type": "code",
   "execution_count": null,
   "metadata": {},
   "outputs": [],
   "source": [
    "rds_fp = '/home/estorrs/rds_conversion/data/snATACseq/brca/brca_nadja.rds'\n",
    "gene_activity_fp = '/home/estorrs/rds_conversion/data/snATACseq/brca/brca_gene_activity_nadja.h5ad'\n",
    "motif_accessability_fp = '/home/estorrs/rds_conversion/data/snATACseq/brca/brca_motif_accessability_nadja.h5ad'\n",
    "peaks_fp = '/home/estorrs/rds_conversion/data/snATACseq/brca/brca_peaks_nadja.h5ad'"
   ]
  },
  {
   "cell_type": "code",
   "execution_count": null,
   "metadata": {},
   "outputs": [],
   "source": [
    "rds_fp = '/home/estorrs/rds_conversion/data/snATACseq/ccrcc/ccrcc_nadja.rds'\n",
    "gene_activity_fp = '/home/estorrs/rds_conversion/data/snATACseq/ccrcc/ccrcc_gene_activity_nadja.h5ad'\n",
    "motif_accessability_fp = '/home/estorrs/rds_conversion/data/snATACseq/ccrcc/ccrcc_motif_accessability_nadja.h5ad'\n",
    "peaks_fp = '/home/estorrs/rds_conversion/data/snATACseq/ccrcc/ccrcc_peaks_nadja.h5ad'"
   ]
  },
  {
   "cell_type": "code",
   "execution_count": null,
   "metadata": {},
   "outputs": [],
   "source": [
    "rds_fp = '/home/estorrs/rds_conversion/data/snATACseq/gbm/gbm_nadja.rds'\n",
    "gene_activity_fp = '/home/estorrs/rds_conversion/data/snATACseq/gbm/gbm_gene_activity_nadja.h5ad'\n",
    "motif_accessability_fp = '/home/estorrs/rds_conversion/data/snATACseq/gbm/gbm_motif_accessability_nadja.h5ad'\n",
    "peaks_fp = '/home/estorrs/rds_conversion/data/snATACseq/gbm/gbm_peaks_nadja.h5ad'"
   ]
  },
  {
   "cell_type": "markdown",
   "metadata": {
    "heading_collapsed": true
   },
   "source": [
    "#### normal workflow"
   ]
  },
  {
   "cell_type": "code",
   "execution_count": null,
   "metadata": {
    "hidden": true
   },
   "outputs": [],
   "source": [
    "%%R -i rds_fp\n",
    "suppressPackageStartupMessages(library(Seurat))\n",
    "\n",
    "final = readRDS(file = rds_fp)"
   ]
  },
  {
   "cell_type": "code",
   "execution_count": null,
   "metadata": {
    "hidden": true
   },
   "outputs": [],
   "source": [
    "%%R -o adata\n",
    "#convert the Seurat object to a SingleCellExperiment object\n",
    "adata <- as.SingleCellExperiment(final)\n",
    "\n",
    "adata"
   ]
  },
  {
   "cell_type": "code",
   "execution_count": null,
   "metadata": {
    "hidden": true,
    "scrolled": true
   },
   "outputs": [],
   "source": [
    "%%R\n",
    "\n",
    "\n",
    "final"
   ]
  },
  {
   "cell_type": "code",
   "execution_count": null,
   "metadata": {
    "hidden": true
   },
   "outputs": [],
   "source": [
    "adata.X = adata.X.astype(np.int64)"
   ]
  },
  {
   "cell_type": "code",
   "execution_count": null,
   "metadata": {
    "hidden": true
   },
   "outputs": [],
   "source": [
    "adata.obs"
   ]
  },
  {
   "cell_type": "code",
   "execution_count": null,
   "metadata": {
    "hidden": true
   },
   "outputs": [],
   "source": [
    "adata.var"
   ]
  },
  {
   "cell_type": "code",
   "execution_count": null,
   "metadata": {
    "hidden": true
   },
   "outputs": [],
   "source": [
    "ls = adata.obs['cell_type']\n",
    "for c in adata.obs.columns: print(adata.obs[c].dtype)\n",
    "for c in adata.var.columns: print(adata.var[c].dtype)\n",
    "print(adata.X.dtype)\n",
    "ls.dtype"
   ]
  },
  {
   "cell_type": "code",
   "execution_count": null,
   "metadata": {
    "hidden": true
   },
   "outputs": [],
   "source": [
    "set(adata.X[:10].toarray().flatten())"
   ]
  },
  {
   "cell_type": "code",
   "execution_count": null,
   "metadata": {
    "hidden": true
   },
   "outputs": [],
   "source": [
    "Counter(adata.obs['cell_type']).most_common()"
   ]
  },
  {
   "cell_type": "markdown",
   "metadata": {},
   "source": [
    "#### snATACseq stuff"
   ]
  },
  {
   "cell_type": "code",
   "execution_count": null,
   "metadata": {},
   "outputs": [],
   "source": [
    "%%R -i rds_fp\n",
    "suppressPackageStartupMessages(library(Seurat))\n",
    "\n",
    "final = readRDS(file = rds_fp)"
   ]
  },
  {
   "cell_type": "markdown",
   "metadata": {},
   "source": [
    "gene activity"
   ]
  },
  {
   "cell_type": "code",
   "execution_count": null,
   "metadata": {},
   "outputs": [],
   "source": [
    "%%R -o metadata -o counts -o genes -o umap\n",
    "metadata = final@meta.data\n",
    "umap = Embeddings(final[[\"umap\"]])\n",
    "genes = rownames(GetAssayData(object = final, slot = \"counts\", assay = \"RNA\"))\n",
    "counts = final@assays$RNA@counts\n",
    "# genes = rownames(GetAssayData(object = final, slot = \"counts\", assay = \"ACTIVITY\"))\n",
    "# counts = final@assays$ACTIVITY@counts"
   ]
  },
  {
   "cell_type": "code",
   "execution_count": null,
   "metadata": {},
   "outputs": [],
   "source": [
    "umap"
   ]
  },
  {
   "cell_type": "code",
   "execution_count": null,
   "metadata": {},
   "outputs": [],
   "source": [
    "metadata"
   ]
  },
  {
   "cell_type": "code",
   "execution_count": null,
   "metadata": {},
   "outputs": [],
   "source": [
    "metadata['cell_type'] = metadata['cell_type_manual'].to_list()\n",
    "Counter(metadata['cell_type']).most_common()"
   ]
  },
  {
   "cell_type": "code",
   "execution_count": null,
   "metadata": {},
   "outputs": [],
   "source": [
    "adata = anndata.AnnData(X=counts.transpose(), obs=metadata,)\n",
    "adata.var.index = genes\n",
    "adata.obsm['X_umap'] = np.asarray(umap)\n",
    "adata"
   ]
  },
  {
   "cell_type": "code",
   "execution_count": null,
   "metadata": {},
   "outputs": [],
   "source": [
    "# sc.pl.umap(adata, color='cell_type')"
   ]
  },
  {
   "cell_type": "code",
   "execution_count": null,
   "metadata": {},
   "outputs": [],
   "source": [
    "adata.obs.columns = np.string_(adata.obs.columns)\n",
    "# adata.var.columns = np.string_(adata.var.columns)\n",
    "adata.write_h5ad(gene_activity_fp)"
   ]
  },
  {
   "cell_type": "markdown",
   "metadata": {},
   "source": [
    "motif accessability"
   ]
  },
  {
   "cell_type": "code",
   "execution_count": null,
   "metadata": {},
   "outputs": [],
   "source": [
    "%%R -o counts -o genes\n",
    "genes = rownames(GetAssayData(object = final, slot = \"data\", assay = \"chromvar\"))\n",
    "counts = final@assays$chromvar@data"
   ]
  },
  {
   "cell_type": "code",
   "execution_count": null,
   "metadata": {},
   "outputs": [],
   "source": [
    "counts"
   ]
  },
  {
   "cell_type": "code",
   "execution_count": null,
   "metadata": {},
   "outputs": [],
   "source": [
    "adata = anndata.AnnData(X=counts.transpose(), obs=metadata,)\n",
    "adata.var.index = genes\n",
    "adata.obsm['X_umap'] = np.asarray(umap)\n",
    "adata"
   ]
  },
  {
   "cell_type": "code",
   "execution_count": null,
   "metadata": {},
   "outputs": [],
   "source": [
    "adata.obs.columns = np.string_(adata.obs.columns)\n",
    "# adata.var.columns = np.string_(adata.var.columns)\n",
    "adata.write_h5ad(motif_accessability_fp)"
   ]
  },
  {
   "cell_type": "markdown",
   "metadata": {},
   "source": [
    "peaks"
   ]
  },
  {
   "cell_type": "code",
   "execution_count": null,
   "metadata": {},
   "outputs": [],
   "source": [
    "%%R -o counts -o genes\n",
    "genes = rownames(GetAssayData(object = final, slot = \"data\", assay = \"peaks\"))\n",
    "counts = final@assays$peaks@data"
   ]
  },
  {
   "cell_type": "code",
   "execution_count": null,
   "metadata": {},
   "outputs": [],
   "source": [
    "counts"
   ]
  },
  {
   "cell_type": "code",
   "execution_count": null,
   "metadata": {},
   "outputs": [],
   "source": [
    "adata = anndata.AnnData(X=counts.transpose(), obs=metadata,)\n",
    "adata.var.index = genes\n",
    "adata.obsm['X_umap'] = np.asarray(umap)\n",
    "adata"
   ]
  },
  {
   "cell_type": "code",
   "execution_count": null,
   "metadata": {},
   "outputs": [],
   "source": [
    "adata.obs.columns = np.string_(adata.obs.columns)\n",
    "# adata.var.columns = np.string_(adata.var.columns)\n",
    "adata.write_h5ad(peaks_fp)"
   ]
  },
  {
   "cell_type": "code",
   "execution_count": null,
   "metadata": {},
   "outputs": [],
   "source": []
  },
  {
   "cell_type": "code",
   "execution_count": null,
   "metadata": {},
   "outputs": [],
   "source": []
  },
  {
   "cell_type": "code",
   "execution_count": 53,
   "metadata": {},
   "outputs": [],
   "source": [
    "%%R -i rds_fp\n",
    "suppressPackageStartupMessages(library(Seurat))\n",
    "\n",
    "final = readRDS(file = rds_fp)"
   ]
  },
  {
   "cell_type": "code",
   "execution_count": 54,
   "metadata": {},
   "outputs": [],
   "source": [
    "%%R -o metadata -o counts -o sctransform -o sctransform_genes -o genes -o umap\n",
    "final = AddMetaData(final, unname(final@active.ident), col.name = 'active.ident')\n",
    "metadata = final@meta.data\n",
    "umap = Embeddings(final[[\"umap\"]])\n",
    "genes = rownames(GetAssayData(object = final, slot = \"counts\", assay = \"RNA\"))\n",
    "counts = final@assays$RNA@counts\n",
    "sctransform_genes = rownames(GetAssayData(object = final, slot = \"data\", assay = \"SCT\"))\n",
    "sctransform = final@assays$SCT@data\n",
    "# genes = rownames(GetAssayData(object = final, slot = \"counts\", assay = \"ACTIVITY\"))\n",
    "# counts = final@assays$ACTIVITY@counts"
   ]
  },
  {
   "cell_type": "code",
   "execution_count": 55,
   "metadata": {},
   "outputs": [
    {
     "data": {
      "text/plain": [
       "AnnData object with n_obs × n_vars = 67347 × 30840\n",
       "    obs: 'orig.ident', 'nCount_RNA', 'nFeature_RNA', 'nCount_SCT', 'nFeature_SCT', 'CELL', 'CONDITION', 'Patient', 'Type', 'Cell_type', 'integrated_snn_res.1.25', 'seurat_clusters', 'integrated_snn_res.2', 'integrated_snn_res.3', 'integrated_snn_res.1', 'integrated_snn_res.0.5', 'integrated_snn_res.0.1', 'active.ident'\n",
       "    var: 'is_highly_variable'\n",
       "    obsm: 'X_umap'\n",
       "    layers: 'counts'"
      ]
     },
     "execution_count": 55,
     "metadata": {},
     "output_type": "execute_result"
    }
   ],
   "source": [
    "adata = anndata.AnnData(X=counts.transpose(), obs=metadata,)\n",
    "scaled = sctransform.transpose()\n",
    "adata.var.index = genes\n",
    "adata = adata[:, sctransform_genes]\n",
    "adata.layers['counts'] = adata.X.copy()\n",
    "adata.X = scaled\n",
    "adata.obsm['X_umap'] = np.asarray(umap)\n",
    "adata.var['is_highly_variable'] = [True if x in sctransform_genes else False\n",
    "                                  for x in adata.var.index]\n",
    "adata"
   ]
  },
  {
   "cell_type": "code",
   "execution_count": 56,
   "metadata": {},
   "outputs": [
    {
     "name": "stderr",
     "output_type": "stream",
     "text": [
      "... storing 'orig.ident' as categorical\n",
      "... storing 'CELL' as categorical\n",
      "... storing 'Patient' as categorical\n",
      "... storing 'Cell_type' as categorical\n"
     ]
    }
   ],
   "source": [
    "adata.obs.columns = adata.obs.columns.astype(str)\n",
    "# adata.var.columns = np.string_(adata.var.columns)\n",
    "adata.write_h5ad(output_fp)"
   ]
  },
  {
   "cell_type": "markdown",
   "metadata": {
    "heading_collapsed": true
   },
   "source": [
    "# extras"
   ]
  },
  {
   "cell_type": "code",
   "execution_count": null,
   "metadata": {
    "hidden": true
   },
   "outputs": [],
   "source": []
  },
  {
   "cell_type": "code",
   "execution_count": null,
   "metadata": {
    "hidden": true
   },
   "outputs": [],
   "source": [
    "ignore below this"
   ]
  },
  {
   "cell_type": "markdown",
   "metadata": {
    "heading_collapsed": true,
    "hidden": true
   },
   "source": [
    "###### run this if anndata2ri conversion fails"
   ]
  },
  {
   "cell_type": "code",
   "execution_count": null,
   "metadata": {
    "hidden": true
   },
   "outputs": [],
   "source": [
    "%%R\n",
    "Assays(final)"
   ]
  },
  {
   "cell_type": "code",
   "execution_count": null,
   "metadata": {
    "hidden": true
   },
   "outputs": [],
   "source": []
  },
  {
   "cell_type": "code",
   "execution_count": null,
   "metadata": {
    "hidden": true
   },
   "outputs": [],
   "source": [
    "%%R -o metadata -o counts -o genes\n",
    "metadata = final@meta.data\n",
    "# feats = as.matrix(GetAssayData(object = final, slot = \"counts\", assay = \"RNA\"))\n",
    "genes = rownames(GetAssayData(object = final, slot = \"counts\", assay = \"peaks\"))\n",
    "counts = final@assays$peaks@counts\n",
    "\n",
    "\n",
    "# genes = rownames(as.matrix(GetAssayData(object = final, slot = \"counts\", assay = \"RNA\")))\n",
    "# counts = final@assays$RNA@counts\n",
    "# chromvar = final@assays$chromvar@counts"
   ]
  },
  {
   "cell_type": "code",
   "execution_count": null,
   "metadata": {
    "hidden": true
   },
   "outputs": [],
   "source": [
    "adata = anndata.AnnData(X=counts.transpose(), obs=metadata,)\n",
    "adata.var.index = genes\n",
    "adata"
   ]
  },
  {
   "cell_type": "code",
   "execution_count": null,
   "metadata": {
    "hidden": true
   },
   "outputs": [],
   "source": [
    "adata"
   ]
  },
  {
   "cell_type": "code",
   "execution_count": null,
   "metadata": {
    "hidden": true
   },
   "outputs": [],
   "source": [
    "adata.obs"
   ]
  },
  {
   "cell_type": "code",
   "execution_count": null,
   "metadata": {
    "hidden": true
   },
   "outputs": [],
   "source": [
    "set(adata.X[:, :10].toarray().flatten())"
   ]
  },
  {
   "cell_type": "code",
   "execution_count": null,
   "metadata": {
    "hidden": true,
    "scrolled": true
   },
   "outputs": [],
   "source": [
    "list(adata.obs)"
   ]
  },
  {
   "cell_type": "code",
   "execution_count": null,
   "metadata": {
    "hidden": true
   },
   "outputs": [],
   "source": [
    "adata.obs['cell_type'] = adata.obs['cell_type'].to_list()"
   ]
  },
  {
   "cell_type": "markdown",
   "metadata": {
    "heading_collapsed": true,
    "hidden": true
   },
   "source": [
    "###### snCCRCC  and snGBM immune"
   ]
  },
  {
   "cell_type": "code",
   "execution_count": null,
   "metadata": {
    "hidden": true
   },
   "outputs": [],
   "source": [
    "# metadata = pd.read_csv('/diskmnt/Projects/Users/allakarpova/Projects/ccRCC/ligand_receptor/ccRCC_metadata_AK_v20200707_v2.txt',\n",
    "#                       sep='\\t', index_col='Unnamed: 0')\n",
    "\n",
    "# metadata = pd.read_csv('/diskmnt/Projects/Users/estorrs/single_cell_data/sandbox/ccRCC_metadata_AK_v20201012_scrublet.txt',\n",
    "#                       sep='\\t', index_col='V1')\n",
    "\n",
    "metadata = pd.read_csv('/diskmnt/Projects/cptac_scratch_4/CPTAC3_GBM/snRNA_seq/snRNA_analysis/GBM_metadata_v202000916_embed_doublet_finder_cell.type_subtypes_scrublet.txt',\n",
    "                      sep='\\t', index_col='V1')\n",
    "\n",
    "metadata"
   ]
  },
  {
   "cell_type": "code",
   "execution_count": null,
   "metadata": {
    "hidden": true
   },
   "outputs": [],
   "source": [
    "\n",
    "# metadata2 = pd.read_csv('/diskmnt/Projects/Users/estorrs/single_cell_data/sandbox/ccRCC_metadata_AK_v20201012_scrublet.txt',\n",
    "#                       sep='\\t', index_col='V1')\n",
    "\n",
    "# metadata2"
   ]
  },
  {
   "cell_type": "code",
   "execution_count": null,
   "metadata": {
    "hidden": true
   },
   "outputs": [],
   "source": [
    "adata.obs = pd.merge(adata.obs, metadata, right_index=True, left_index=True)\n",
    "adata.obs"
   ]
  },
  {
   "cell_type": "code",
   "execution_count": null,
   "metadata": {
    "hidden": true
   },
   "outputs": [],
   "source": [
    "adata.obs['cell_type'] = adata.obs['Cell_type.shorter'].to_list()"
   ]
  },
  {
   "cell_type": "code",
   "execution_count": null,
   "metadata": {
    "hidden": true
   },
   "outputs": [],
   "source": [
    "from collections import Counter\n",
    "Counter(adata.obs['cell_type']).most_common()"
   ]
  },
  {
   "cell_type": "code",
   "execution_count": null,
   "metadata": {
    "hidden": true
   },
   "outputs": [],
   "source": [
    "adata = adata[adata.obs['cell_type']!='Doublet', :]\n",
    "adata"
   ]
  },
  {
   "cell_type": "code",
   "execution_count": null,
   "metadata": {
    "hidden": true
   },
   "outputs": [],
   "source": [
    "adata.obs['sample_id'] = adata.obs['sample'].to_list()"
   ]
  },
  {
   "cell_type": "code",
   "execution_count": null,
   "metadata": {
    "hidden": true
   },
   "outputs": [],
   "source": [
    "adata"
   ]
  },
  {
   "cell_type": "markdown",
   "metadata": {
    "heading_collapsed": true,
    "hidden": true
   },
   "source": [
    "###### pdac"
   ]
  },
  {
   "cell_type": "code",
   "execution_count": null,
   "metadata": {
    "hidden": true
   },
   "outputs": [],
   "source": [
    "adata.obs['sample_id'] = adata.obs['orig.ident'].to_list()\n"
   ]
  },
  {
   "cell_type": "markdown",
   "metadata": {
    "heading_collapsed": true,
    "hidden": true
   },
   "source": [
    "###### gbm"
   ]
  },
  {
   "cell_type": "code",
   "execution_count": null,
   "metadata": {
    "hidden": true
   },
   "outputs": [],
   "source": [
    "metadata = pd.read_csv('/diskmnt/Projects/Users/allakarpova/Projects/gbm/snRNA_analysis/GBM_metadata_v20200505.txt',\n",
    "                      sep='\\t', index_col=0)\n",
    "metadata"
   ]
  },
  {
   "cell_type": "code",
   "execution_count": null,
   "metadata": {
    "hidden": true
   },
   "outputs": [],
   "source": [
    "metadata = metadata.loc[adata.obs.index]\n",
    "metadata"
   ]
  },
  {
   "cell_type": "code",
   "execution_count": null,
   "metadata": {
    "hidden": true
   },
   "outputs": [],
   "source": [
    "sorted(set(metadata['Cell_type_detailed_updated']))"
   ]
  },
  {
   "cell_type": "code",
   "execution_count": null,
   "metadata": {
    "hidden": true
   },
   "outputs": [],
   "source": [
    "sorted(set(metadata['Cell_type_short_updated']))"
   ]
  },
  {
   "cell_type": "code",
   "execution_count": null,
   "metadata": {
    "hidden": true
   },
   "outputs": [],
   "source": [
    "adata.obs['cell_type'] = list(metadata['Cell_type_short_updated'])\n",
    "adata.obs['cell_type_short'] = list(metadata['Cell_type_short_updated'])\n",
    "adata.obs['cell_type_detailed'] = list(metadata['Cell_type_detailed_updated'])"
   ]
  },
  {
   "cell_type": "code",
   "execution_count": null,
   "metadata": {
    "hidden": true
   },
   "outputs": [],
   "source": [
    "adata = adata[adata.obs['cell_type'] != 'Unknown']\n",
    "sorted(set(adata.obs['cell_type']))"
   ]
  },
  {
   "cell_type": "code",
   "execution_count": null,
   "metadata": {
    "hidden": true
   },
   "outputs": [],
   "source": [
    "adata.obs['sample_id'] = list(adata.obs['sample'])"
   ]
  },
  {
   "cell_type": "code",
   "execution_count": null,
   "metadata": {
    "hidden": true
   },
   "outputs": [],
   "source": [
    "sorted(set(adata.obs['sample_id']))"
   ]
  },
  {
   "cell_type": "code",
   "execution_count": null,
   "metadata": {
    "hidden": true
   },
   "outputs": [],
   "source": []
  },
  {
   "cell_type": "markdown",
   "metadata": {
    "hidden": true
   },
   "source": [
    "##### write output"
   ]
  },
  {
   "cell_type": "code",
   "execution_count": null,
   "metadata": {
    "hidden": true
   },
   "outputs": [],
   "source": [
    "adata.obs.columns = np.string_(adata.obs.columns)\n",
    "adata.var.columns = np.string_(adata.var.columns)"
   ]
  },
  {
   "cell_type": "code",
   "execution_count": null,
   "metadata": {
    "hidden": true
   },
   "outputs": [],
   "source": [
    "adata.write_h5ad(output_fp)"
   ]
  },
  {
   "cell_type": "code",
   "execution_count": null,
   "metadata": {
    "hidden": true
   },
   "outputs": [],
   "source": []
  },
  {
   "cell_type": "code",
   "execution_count": null,
   "metadata": {
    "hidden": true
   },
   "outputs": [],
   "source": []
  },
  {
   "cell_type": "code",
   "execution_count": null,
   "metadata": {
    "hidden": true
   },
   "outputs": [],
   "source": []
  },
  {
   "cell_type": "markdown",
   "metadata": {
    "hidden": true
   },
   "source": [
    "#### multiple files"
   ]
  },
  {
   "cell_type": "code",
   "execution_count": null,
   "metadata": {
    "hidden": true
   },
   "outputs": [],
   "source": [
    "output_fp = '/diskmnt/Projects/Users/estorrs/single_cell_data/myeloma/h5ad/scRNA/merged.h5ad'\n",
    "DIR = '/diskmnt/Projects/Users/estorrs/single_cell_data/myeloma/rds/scRNA'"
   ]
  },
  {
   "cell_type": "code",
   "execution_count": null,
   "metadata": {
    "hidden": true
   },
   "outputs": [],
   "source": [
    "output_fp = '/diskmnt/Projects/Users/estorrs/single_cell_data/aml/h5ad/aml.h5ad'\n",
    "DIR = '/diskmnt/Projects/Users/estorrs/single_cell_data/aml/rds'"
   ]
  },
  {
   "cell_type": "code",
   "execution_count": null,
   "metadata": {
    "hidden": true
   },
   "outputs": [],
   "source": [
    "output_fp = '/diskmnt/Projects/Users/estorrs/single_cell_data/melanoma/melanoma.h5ad'\n",
    "DIR = '/diskmnt/Projects/Users/lyao/Melanoma/Analyses/Pollock'"
   ]
  },
  {
   "cell_type": "code",
   "execution_count": null,
   "metadata": {
    "hidden": true,
    "scrolled": true
   },
   "outputs": [],
   "source": [
    "\n",
    "rds_fps = [os.path.join(DIR, fp) for fp in os.listdir(DIR)]\n",
    "sample_ids = [re.sub(r'^.*SeuratObj_(.*)_Celltypes.*$', r'\\1', x) for x in rds_fps]\n",
    "rds_fps, sample_ids"
   ]
  },
  {
   "cell_type": "code",
   "execution_count": null,
   "metadata": {
    "hidden": true
   },
   "outputs": [],
   "source": [
    "%%R -i rds_fps -i sample_ids\n",
    "suppressPackageStartupMessages(library(Seurat))\n",
    "\n",
    "final = readRDS(file = rds_fps[[1]])\n",
    "exps = c()\n",
    "for (rds_fp in rds_fps[2:length(rds_fps)]) {\n",
    "    print(rds_fp)\n",
    "    exp <- readRDS(file = rds_fp)\n",
    "    exps = c(exps, exp)\n",
    "} \n",
    "\n",
    "all_merged <- merge(final, y = exps, add.cell.ids = sample_ids, project = \"sc_merge\")\n",
    "all_merged"
   ]
  },
  {
   "cell_type": "code",
   "execution_count": null,
   "metadata": {
    "hidden": true
   },
   "outputs": [],
   "source": [
    "%%R -o adata\n",
    "#convert the Seurat object to a SingleCellExperiment object\n",
    "adata <- as.SingleCellExperiment(all_merged)\n",
    "\n",
    "adata"
   ]
  },
  {
   "cell_type": "code",
   "execution_count": null,
   "metadata": {
    "hidden": true
   },
   "outputs": [],
   "source": [
    "adata"
   ]
  },
  {
   "cell_type": "code",
   "execution_count": null,
   "metadata": {
    "hidden": true
   },
   "outputs": [],
   "source": [
    "adata.obs"
   ]
  },
  {
   "cell_type": "code",
   "execution_count": null,
   "metadata": {
    "hidden": true
   },
   "outputs": [],
   "source": [
    "set(adata.X[:, :10].toarray().flatten())"
   ]
  },
  {
   "cell_type": "code",
   "execution_count": null,
   "metadata": {
    "hidden": true
   },
   "outputs": [],
   "source": []
  },
  {
   "cell_type": "markdown",
   "metadata": {
    "hidden": true
   },
   "source": [
    "###### melanoma"
   ]
  },
  {
   "cell_type": "code",
   "execution_count": null,
   "metadata": {
    "hidden": true
   },
   "outputs": [],
   "source": [
    "# samples = [adata[adata.obs['train.id']=='NA'].obs.index"
   ]
  },
  {
   "cell_type": "code",
   "execution_count": null,
   "metadata": {
    "hidden": true
   },
   "outputs": [],
   "source": [
    "adata.obs['cell_type'] = adata.obs['train.id'].to_list()\n",
    "adata.obs['sample_id'] = ['_'.join(x.split('_')[:-1]) for x in adata.obs.index]\n",
    "# adata = adata[adata.obs['cell_type']!='NA']\n",
    "adata"
   ]
  },
  {
   "cell_type": "code",
   "execution_count": null,
   "metadata": {
    "hidden": true
   },
   "outputs": [],
   "source": [
    "sorted(set(adata.obs['cell_type']))"
   ]
  },
  {
   "cell_type": "code",
   "execution_count": null,
   "metadata": {
    "hidden": true
   },
   "outputs": [],
   "source": [
    "sorted(set(adata.obs['sample_id']))"
   ]
  },
  {
   "cell_type": "code",
   "execution_count": null,
   "metadata": {
    "hidden": true
   },
   "outputs": [],
   "source": [
    "adata.write_h5ad(output_fp)"
   ]
  },
  {
   "cell_type": "code",
   "execution_count": null,
   "metadata": {
    "hidden": true
   },
   "outputs": [],
   "source": [
    "adata[adata.obs['orig.ident']=='MMY18273'].obs"
   ]
  },
  {
   "cell_type": "code",
   "execution_count": null,
   "metadata": {
    "hidden": true
   },
   "outputs": [],
   "source": [
    "set(adata.obs['ident'])"
   ]
  },
  {
   "cell_type": "code",
   "execution_count": null,
   "metadata": {
    "hidden": true
   },
   "outputs": [],
   "source": []
  },
  {
   "cell_type": "code",
   "execution_count": null,
   "metadata": {
    "hidden": true
   },
   "outputs": [],
   "source": []
  }
 ],
 "metadata": {
  "kernelspec": {
   "display_name": "Python 3",
   "language": "python",
   "name": "python3"
  },
  "language_info": {
   "codemirror_mode": {
    "name": "ipython",
    "version": 3
   },
   "file_extension": ".py",
   "mimetype": "text/x-python",
   "name": "python",
   "nbconvert_exporter": "python",
   "pygments_lexer": "ipython3",
   "version": "3.7.8"
  }
 },
 "nbformat": 4,
 "nbformat_minor": 4
}
